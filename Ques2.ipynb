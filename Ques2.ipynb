{
 "cells": [
  {
   "attachments": {},
   "cell_type": "markdown",
   "metadata": {},
   "source": [
    "# This notbook is an implementation of Questions presented in book - \"Cracking The ML Interview\""
   ]
  },
  {
   "attachments": {},
   "cell_type": "markdown",
   "metadata": {},
   "source": [
    "*Implement sum of two numbers in ML*"
   ]
  },
  {
   "cell_type": "code",
   "execution_count": 1,
   "metadata": {},
   "outputs": [],
   "source": [
    "from sklearn import linear_model\n",
    "import numpy as np"
   ]
  },
  {
   "cell_type": "code",
   "execution_count": 2,
   "metadata": {},
   "outputs": [],
   "source": [
    "# Prepare input data and sum to be passed to the model\n",
    "input_data = np.random.randint(50, size = (20,2))\n",
    "input_sum = np.zeros(len(input_data))\n",
    "\n",
    "for row in range(len(input_sum)):\n",
    "    input_sum[row] = input_data[row][0] + input_data[row][1]"
   ]
  },
  {
   "cell_type": "code",
   "execution_count": 3,
   "metadata": {},
   "outputs": [
    {
     "name": "stdout",
     "output_type": "stream",
     "text": [
      "predicted sum of 60 and 24 is :[84.]\n"
     ]
    }
   ],
   "source": [
    "# using linear model\n",
    "lr_model = linear_model.LinearRegression(fit_intercept=False)\n",
    "lr_model.fit(input_data, input_sum)\n",
    "\n",
    "predicted_sum = lr_model.predict([[60,24]])\n",
    "print(\"predicted sum of 60 and 24 is :\" +str(predicted_sum))\n"
   ]
  },
  {
   "cell_type": "code",
   "execution_count": 4,
   "metadata": {},
   "outputs": [
    {
     "name": "stdout",
     "output_type": "stream",
     "text": [
      "Coefficients of both inputs are: [1. 1.]\n"
     ]
    }
   ],
   "source": [
    "print(\"Coefficients of both inputs are: \"+str(lr_model.coef_))"
   ]
  }
 ],
 "metadata": {
  "kernelspec": {
   "display_name": "DL",
   "language": "python",
   "name": "python3"
  },
  "language_info": {
   "codemirror_mode": {
    "name": "ipython",
    "version": 3
   },
   "file_extension": ".py",
   "mimetype": "text/x-python",
   "name": "python",
   "nbconvert_exporter": "python",
   "pygments_lexer": "ipython3",
   "version": "3.10.5"
  },
  "orig_nbformat": 4
 },
 "nbformat": 4,
 "nbformat_minor": 2
}
